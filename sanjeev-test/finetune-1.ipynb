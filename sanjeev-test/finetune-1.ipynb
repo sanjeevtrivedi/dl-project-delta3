{
 "cells": [
  {
   "cell_type": "code",
   "execution_count": null,
   "id": "0626a470",
   "metadata": {},
   "outputs": [],
   "source": [
    "# !pip3 install transformers datasets evaluate peft trl bitsandbytes"
   ]
  },
  {
   "cell_type": "code",
   "execution_count": null,
   "id": "e58a5cfa",
   "metadata": {},
   "outputs": [],
   "source": [
    "import os\n",
    "import torch\n",
    "from datasets import load_dataset\n",
    "from transformers import AutoTokenizer, AutoModelForCausalLM, TrainingArguments, BitsAndBytesConfig, pipeline, logging\n",
    "from peft import LoraConfig\n",
    "from trl import SFTTrainer\n",
    "\n",
    "base_model = \"TinyLlama/TinyLlama-1.1B-intermediate-step-1431k-3T\"\n",
    "guanaco_dataset = \"mlabonne/guanaco-llama2-1k\"\n",
    "new_model = \"llama-1.1B-chat-guanaco\"\n",
    "\n",
    "dataset = load_dataset(guanaco_dataset, split=\"train\")"
   ]
  }
 ],
 "metadata": {
  "kernelspec": {
   "display_name": "Python 3",
   "language": "python",
   "name": "python3"
  },
  "language_info": {
   "name": "python",
   "version": "3.12.9"
  }
 },
 "nbformat": 4,
 "nbformat_minor": 5
}
